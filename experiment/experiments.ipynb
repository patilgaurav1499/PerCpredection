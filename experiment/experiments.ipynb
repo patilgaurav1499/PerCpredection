{
 "cells": [
  {
   "cell_type": "code",
   "execution_count": 17,
   "metadata": {},
   "outputs": [],
   "source": [
    "import pandas as pd\n",
    "import matplotlib as plt\n",
    "import numpy as np\n",
    "import seaborn as sns\n",
    "from sklearn.metrics import r2_score\n"
   ]
  },
  {
   "cell_type": "code",
   "execution_count": 18,
   "metadata": {},
   "outputs": [],
   "source": [
    "import pickle"
   ]
  },
  {
   "cell_type": "code",
   "execution_count": 19,
   "metadata": {},
   "outputs": [],
   "source": [
    "with open('C:/Users/1090384/Carbon_deplyement/PerCpredection/model.pkl', 'rb') as file:\n",
    "    loaded_model = pickle.load(file)"
   ]
  },
  {
   "cell_type": "code",
   "execution_count": 20,
   "metadata": {},
   "outputs": [
    {
     "name": "stdout",
     "output_type": "stream",
     "text": [
      "Prediction: [0.0193023]\n"
     ]
    }
   ],
   "source": [
    "input_data = {}\n",
    "\n",
    "HotMetal = input(\"Enter Hot Metal Quantity in Tons: \")\n",
    "input_data['HotMetal'] = float(HotMetal)\n",
    "\n",
    "BathWt = input(\"Enter Bath Weight Quantity in Tons: \")\n",
    "input_data['BathWt'] = float(BathWt)\n",
    "\n",
    "O = input(\"Enter Oxygen in Nm^3: \")\n",
    "input_data['O'] = float(O)\n",
    "\n",
    "Temp = input(\"Enter Temperature in C: \")\n",
    "input_data['Temp'] = float(Temp)\n",
    "\n",
    "BlowDur = input(\"Enter Blowing Duration in Minutes: \")\n",
    "input_data['BlowDur'] = float(BlowDur)\n",
    "\n",
    "O2SideLanceB = input(\"Enter O2_SidelanceB in Nm^3: \")\n",
    "input_data['O2SideLance-B'] = float(O2SideLanceB)\n",
    "\n",
    "# Convert input data to a 2D numpy array\n",
    "input_array = np.array(list(input_data.values())).reshape(1, 6)\n",
    "\n",
    "# Perform the prediction\n",
    "prediction = loaded_model.predict(input_array)\n",
    "\n",
    "# Print the predicted output\n",
    "print(\"Prediction:\", prediction)\n"
   ]
  },
  {
   "cell_type": "code",
   "execution_count": null,
   "metadata": {},
   "outputs": [],
   "source": []
  }
 ],
 "metadata": {
  "kernelspec": {
   "display_name": "Python 3",
   "language": "python",
   "name": "python3"
  },
  "language_info": {
   "codemirror_mode": {
    "name": "ipython",
    "version": 3
   },
   "file_extension": ".py",
   "mimetype": "text/x-python",
   "name": "python",
   "nbconvert_exporter": "python",
   "pygments_lexer": "ipython3",
   "version": "3.11.1"
  }
 },
 "nbformat": 4,
 "nbformat_minor": 2
}
